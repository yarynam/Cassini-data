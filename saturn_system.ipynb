{
 "cells": [
  {
   "cell_type": "code",
   "execution_count": 26,
   "metadata": {},
   "outputs": [
    {
     "data": {
      "text/plain": [
       "'CSPICE_N0066'"
      ]
     },
     "execution_count": 26,
     "metadata": {},
     "output_type": "execute_result"
    }
   ],
   "source": [
    "#import json lib to get nice and valid json \n",
    "import json\n",
    "from datetime import datetime, timedelta\n",
    "import spiceypy as spice\n",
    "\n",
    "#check if spiceypy is imported\n",
    "spice.tkvrsn(\"TOOLKIT\") "
   ]
  },
  {
   "cell_type": "code",
   "execution_count": 27,
   "metadata": {
    "collapsed": true
   },
   "outputs": [],
   "source": [
    "#load kernels\n",
    "spice.furnsh(\"./cassMetaK.txt\") "
   ]
  },
  {
   "cell_type": "code",
   "execution_count": 28,
   "metadata": {
    "collapsed": true
   },
   "outputs": [],
   "source": [
    "#moon general info \n",
    "#https://solarsystem.nasa.gov/planets/IAPETUS/facts\n",
    "\n",
    "#initial position is the end of the mission \n",
    "init_date = spice.str2et('2017-09-15T10:32:00') \n",
    "\n",
    "planets = [{\"name\": \"saturn\",\n",
    "          \"radius\": 58232.0,\n",
    "          \"img\": \"img/saturn.jpg\"\n",
    "         },\n",
    "         {\"name\": \"mimas\",\n",
    "          \"radius\": 198.2,\n",
    "          \"orbital_period\": 22.61,\n",
    "          \"img\": \"img/mimas-sm.jpg\"\n",
    "         },\n",
    "         {\"name\": \"enceladus\",\n",
    "          \"radius\": 252.1,\n",
    "          \"orbital_period\": 32.88,\n",
    "          \"img\": \"img/enceladus-sm.jpg\"\n",
    "         },\n",
    "         {\"name\": \"tethys\",\n",
    "          \"radius\": 533.0,\n",
    "          \"orbital_period\": 45.31,\n",
    "          \"img\": \"img/tethys-sm.jpg\"\n",
    "         },\n",
    "         {\"name\": \"dione\",\n",
    "          \"radius\": 561.7,\n",
    "          \"orbital_period\": 65.69,\n",
    "          \"img\": \"img/dione-sm.jpg\"\n",
    "         },\n",
    "         {\"name\": \"rhea\",\n",
    "          \"radius\": 764.3,\n",
    "          \"orbital_period\": 108.42,\n",
    "          \"img\": \"img/rhea-sm.jpg\"\n",
    "         },\n",
    "          {\"name\": \"titan\",\n",
    "          \"radius\": 2574.7,\n",
    "          \"orbital_period\": 382.7,\n",
    "          \"img\": \"img/titan-sm-brown.jpg\"\n",
    "         },\n",
    "         {\"name\": \"iapetus\",\n",
    "          \"radius\": 735.6,\n",
    "          \"orbital_period\": 1904.0,\n",
    "          \"img\": \"img/iapetus-sm.jpg\"\n",
    "         }\n",
    "        ]"
   ]
  },
  {
   "cell_type": "code",
   "execution_count": 29,
   "metadata": {
    "collapsed": true
   },
   "outputs": [],
   "source": [
    "# global vars to calculate moon's orbit\n",
    "step = 1000 #1000 posiitions of the planet during the orbital period \n",
    "end_date  = datetime.strptime('2017-09-15T10:32:00', \"%Y-%m-%dT%H:%M:%S\")"
   ]
  },
  {
   "cell_type": "code",
   "execution_count": 30,
   "metadata": {},
   "outputs": [
    {
     "name": "stdout",
     "output_type": "stream",
     "text": [
      "{'pos_z': 0, 'pos_x': 0, 'pos_y': 0, 'name': 'saturn', 'img': 'img/saturn.jpg', 'radius': 58.232, 'class': 'moon'}\n"
     ]
    }
   ],
   "source": [
    " moons_data = []\n",
    "\n",
    "for i, planet in enumerate(planets):\n",
    "    \n",
    "    # get initial position \n",
    "    init_position, init_lightTime = spice.spkpos(planet[\"name\"].upper(), init_date, 'J2000', 'NONE', 'SATURN')\n",
    "    \n",
    "    if planet[\"name\"] == \"saturn\":\n",
    "        planet[\"radius\"] = planet[\"radius\"]/1000\n",
    "        planet[\"pos_x\"] = 0\n",
    "        planet[\"pos_y\"] = 0\n",
    "        planet[\"pos_z\"] = 0\n",
    "        planet[\"class\"] = \"moon\"\n",
    "    else:\n",
    "        #get orbit coordinates \n",
    "        orbital_period = planet[\"orbital_period\"]\n",
    "        start_date = end_date - timedelta(hours = orbital_period) #end date of orbital period\n",
    "        utc = [start_date.strftime(\"%Y-%m-%dT%H:%M:%S\"), end_date.strftime(\"%Y-%m-%dT%H:%M:%S\")]\n",
    "\n",
    "        etOne = spice.str2et(utc[0])\n",
    "        etTwo = spice.str2et(utc[1])\n",
    "\n",
    "        times = [x*(etTwo-etOne)/step + etOne for x in range(step+1)]\n",
    "        times_utc = map(lambda t : spice.timout(t, \"YYYY-MM-DD HR:MN:SC\", 20), times)\n",
    "\n",
    "\n",
    "        positions, lightTimes = spice.spkpos(planet[\"name\"].upper(), times, 'J2000', 'NONE', 'SATURN')\n",
    "        orbit_positions = []\n",
    "        \n",
    "        # position on orbit\n",
    "        for old_dict in positions:\n",
    "            new_dict = {\"x\": round(old_dict[1]/1000, 5), \n",
    "                        \"y\": round(old_dict[2]/1000, 5),\n",
    "                        \"z\": round(old_dict[0]/1000, 5)}\n",
    "            orbit_positions.append(new_dict)\n",
    "\n",
    "        # initial position and radius in 1000\n",
    "        planet[\"pos_x\"] = round(init_position[1]/1000, 5),\n",
    "        planet[\"pos_y\"] = round(init_position[2]/1000, 5),\n",
    "        planet[\"pos_z\"] = round(init_position[0]/1000, 5),\n",
    "        planet[\"radius\"] = planet[\"radius\"]/1000\n",
    "        planet[\"orbit\"] = orbit_positions\n",
    "        planet[\"class\"] = \"moon\"\n",
    "\n",
    "    \n",
    "        \n",
    "# print Mimas data        \n",
    "print(planets[0])"
   ]
  },
  {
   "cell_type": "code",
   "execution_count": 32,
   "metadata": {
    "collapsed": true
   },
   "outputs": [],
   "source": [
    "# write to json\n",
    "with open(\"planets.json\", \"w\") as f:\n",
    "    f.write(\"%s\" % json.dumps(planets)) #write json"
   ]
  }
 ],
 "metadata": {
  "kernelspec": {
   "display_name": "Python 2",
   "language": "python",
   "name": "python2"
  },
  "language_info": {
   "codemirror_mode": {
    "name": "ipython",
    "version": 2
   },
   "file_extension": ".py",
   "mimetype": "text/x-python",
   "name": "python",
   "nbconvert_exporter": "python",
   "pygments_lexer": "ipython2",
   "version": "2.7.12"
  }
 },
 "nbformat": 4,
 "nbformat_minor": 2
}
